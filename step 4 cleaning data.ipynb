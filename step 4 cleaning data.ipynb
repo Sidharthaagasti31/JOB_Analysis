{
 "cells": [
  {
   "cell_type": "code",
   "execution_count": 1,
   "id": "f7504e65",
   "metadata": {},
   "outputs": [],
   "source": [
    "import pandas as pd\n",
    "import numpy as np"
   ]
  },
  {
   "cell_type": "code",
   "execution_count": 76,
   "id": "43c83a67",
   "metadata": {},
   "outputs": [],
   "source": [
    "df=pd.read_csv('scraped_raw_data.csv')"
   ]
  },
  {
   "cell_type": "code",
   "execution_count": 77,
   "id": "dec50f22",
   "metadata": {},
   "outputs": [],
   "source": [
    "df=df.drop(columns='Unnamed: 0')"
   ]
  },
  {
   "cell_type": "code",
   "execution_count": 78,
   "id": "759c9433",
   "metadata": {},
   "outputs": [
    {
     "data": {
      "text/plain": [
       "10"
      ]
     },
     "execution_count": 78,
     "metadata": {},
     "output_type": "execute_result"
    }
   ],
   "source": [
    "len(df.columns)"
   ]
  },
  {
   "cell_type": "code",
   "execution_count": 63,
   "id": "9580e317",
   "metadata": {},
   "outputs": [],
   "source": [
    " df['Designation']=df.designation.str.split(',')"
   ]
  },
  {
   "cell_type": "code",
   "execution_count": 92,
   "id": "2054214f",
   "metadata": {},
   "outputs": [],
   "source": [
    "def replace_(x):\n",
    "    y=x[0]\n",
    "    return y.split('(')\n",
    "        \n",
    "    "
   ]
  },
  {
   "cell_type": "code",
   "execution_count": 93,
   "id": "4b5e3a68",
   "metadata": {},
   "outputs": [],
   "source": [
    "df['Designation']=df.designation.apply(replace_)"
   ]
  },
  {
   "cell_type": "code",
   "execution_count": 106,
   "id": "e7265ffb",
   "metadata": {},
   "outputs": [
    {
     "name": "stderr",
     "output_type": "stream",
     "text": [
      "C:\\Users\\Dell\\AppData\\Local\\Temp\\ipykernel_6312\\2904610371.py:1: FutureWarning: The default value of regex will change from True to False in a future version.\n",
      "  df.designation=df.designation.str.replace(' (Drive)','')\n"
     ]
    }
   ],
   "source": [
    "df.designation=df.designation.str.replace(' (Drive)','')"
   ]
  },
  {
   "cell_type": "code",
   "execution_count": 68,
   "id": "603d825f",
   "metadata": {},
   "outputs": [],
   "source": [
    "df.employee_reviews.fillna(0,inplace=True)"
   ]
  },
  {
   "cell_type": "code",
   "execution_count": 72,
   "id": "381a616a",
   "metadata": {},
   "outputs": [
    {
     "data": {
      "text/plain": [
       "designation         0\n",
       "company_name        0\n",
       "location            0\n",
       "estab_year          0\n",
       "employees_count     0\n",
       "job_description     0\n",
       "skills              0\n",
       "hr_name             0\n",
       "experience_req      0\n",
       "employee_reviews    0\n",
       "Designation         0\n",
       "dtype: int64"
      ]
     },
     "execution_count": 72,
     "metadata": {},
     "output_type": "execute_result"
    }
   ],
   "source": [
    "df.isna().sum()"
   ]
  },
  {
   "cell_type": "code",
   "execution_count": 71,
   "id": "5a449c55",
   "metadata": {},
   "outputs": [],
   "source": [
    "df.dropna(inplace=True)"
   ]
  },
  {
   "cell_type": "code",
   "execution_count": 75,
   "id": "87a775bd",
   "metadata": {},
   "outputs": [
    {
     "data": {
      "text/plain": [
       "array(['Business Systems Analyst '], dtype=object)"
      ]
     },
     "execution_count": 75,
     "metadata": {},
     "output_type": "execute_result"
    }
   ],
   "source": [
    "df.Designation.unique()"
   ]
  },
  {
   "cell_type": "code",
   "execution_count": 107,
   "id": "4ed35e67",
   "metadata": {},
   "outputs": [
    {
     "data": {
      "text/plain": [
       "0                       Business Systems Analyst (Drive)\n",
       "1                               Technical Writer (Drive)\n",
       "2                                  AEM Developer (Drive)\n",
       "3                     Azure Databricks Developer (Drive)\n",
       "4                Big Data - Java Spark Developer (Drive)\n",
       "                             ...                        \n",
       "395    Web Consultant - Website & Mobile Application ...\n",
       "396                                   Software Developer\n",
       "397                            Technical Product Manager\n",
       "398                            NOC Engineer [T500 - 6869\n",
       "399                                          VP Engineer\n",
       "Name: designation, Length: 400, dtype: object"
      ]
     },
     "execution_count": 107,
     "metadata": {},
     "output_type": "execute_result"
    }
   ],
   "source": [
    "df.designation"
   ]
  },
  {
   "cell_type": "code",
   "execution_count": null,
   "id": "55b079df",
   "metadata": {},
   "outputs": [],
   "source": []
  }
 ],
 "metadata": {
  "kernelspec": {
   "display_name": "Python 3 (ipykernel)",
   "language": "python",
   "name": "python3"
  },
  "language_info": {
   "codemirror_mode": {
    "name": "ipython",
    "version": 3
   },
   "file_extension": ".py",
   "mimetype": "text/x-python",
   "name": "python",
   "nbconvert_exporter": "python",
   "pygments_lexer": "ipython3",
   "version": "3.9.13"
  }
 },
 "nbformat": 4,
 "nbformat_minor": 5
}
